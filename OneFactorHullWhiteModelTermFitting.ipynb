{
 "cells": [
  {
   "cell_type": "markdown",
   "metadata": {},
   "source": [
    "Importing all the necessary modules\n"
   ]
  },
  {
   "cell_type": "code",
   "execution_count": 1,
   "metadata": {},
   "outputs": [],
   "source": [
    "import numpy as np\n",
    "import matplotlib.pyplot as plt\n",
    "import math\n",
    "import scipy as scipy\n",
    "from scipy.interpolate import interp1d\n",
    "from scipy.optimize import minimize_scalar"
   ]
  },
  {
   "cell_type": "markdown",
   "metadata": {},
   "source": [
    " The current term structure of interest rates is imported.The yield curve is then constructed by inpterpolating for the intermediate values.Having the current yield for various maturity of bonds,the Hull White yield and HullWhite prices are then calculated."
   ]
  },
  {
   "cell_type": "code",
   "execution_count": 3,
   "metadata": {},
   "outputs": [],
   "source": [
    "def yield_curve_construction(tr, yr, time_step=0.25):\n",
    "    t = list(i for i in np.arange(0.0, 30, time_step)) # interpolating in range 1..30 years\n",
    "    y = []\n",
    "    z = []\n",
    "    interp = interp1d(tr, yr, bounds_error=False, fill_value=np.isnan)\n",
    "    for i in t:\n",
    "        value = float(interp(i))\n",
    "        if not np.isnan(value): # Don't include out-of-range values\n",
    "            y.append(value)\n",
    "            z.append(np.exp(-i*value))\n",
    "    return  t,y,z\n",
    "\n",
    "def compute_HWZeroprice(r_t, kappa, sigma, Z_t, Z_T, F_t, t, T):\n",
    "    B = (1 - np.exp(-kappa*(T-t))) / kappa\n",
    "    A = np.log(Z_T/Z_t) + B*F_t - (sigma**2/(4*kappa**3))*((np.exp(-kappa*T) - np.exp(-kappa*t))**2)*(np.exp(2*kappa*t)-1)\n",
    "    zero_price = np.exp(A - r_t * B)\n",
    "    return zero_price\n",
    "\n",
    "def compute_yield(r_t, kappa, sigma, Z_t, Z_T, F_t, t, T):\n",
    "    zero_price = compute_HWZeroprice(r_t, kappa, sigma, Z_t, Z_T, F_t, t, T);\n",
    "    yield_rate = -math.log(zero_price)/(T-t);\n",
    "    return yield_rate\n",
    "\n",
    "def get_instantaneous_fwd_rate(terms, zero_curve, T):\n",
    "    interp = interp1d(terms, zero_curve, bounds_error=False, fill_value=scipy.nan)\n",
    "    value1 = float(interp(T-0.001))\n",
    "    value2 = float(interp(T+0.001))\n",
    "    return -(np.log(value2)-np.log(value1))/0.002\n",
    "\n",
    "def get_instantaneous_fwd_rate_slope(terms, zero_curve, T):\n",
    "    interp = interp1d(terms, zero_curve, bounds_error=False, fill_value=scipy.nan)\n",
    "    value1 = float(interp(T-0.001))\n",
    "    value2 = float(interp(T+0.001))\n",
    "    value3 = float(interp(T))\n",
    "    return -(np.log(value2)-2*np.log(value3)+ np.log(value1))/0.000001\n",
    "\n",
    "\n",
    "\n",
    "if __name__ == \"__main__\":\n",
    "    NumSimulations = 100;\n",
    "    r_t = 0.03; kappa = 38.0; sigma = 0.1; t = 0.0; T = 5.0; time_steps=500;   \n",
    "    \n",
    "  # Setting the initial term structure\n",
    "    tr = [0.0, 0.25,\t 0.5,\t0.75,\t1,\t1.5,\t2,\t3,\t4,\t5,\t10,\t20,\t30]\n",
    "    \n",
    "    yr = [0.03, 0.002, 0.005,\t0.007,\t0.011,\t0.015,\t0.018,\t0.02,\t0.022,\t0.025,\t0.0288,\t0.031,\t0.034]\n",
    "    fwd_rate=r_t\n",
    "    terms,yields,zero_prices=yield_curve_construction(tr, yr, time_step=0.25)\n",
    "    \n",
    "    hull_yields = [0.03]\n",
    "    for Mat in terms[1:]:\n",
    "        #fwd_rate = get_instantaneous_fwd_rate(terms, zero_prices, Mat)\n",
    "        fwd_rate = r_t\n",
    "        index = int(Mat/0.25 - 1)\n",
    "        hull_yields.append(compute_yield(r_t, kappa, sigma, zero_prices[0], zero_prices[index], fwd_rate, 0.0, Mat))\n",
    "        \n",
    " "
   ]
  },
  {
   "cell_type": "markdown",
   "metadata": {},
   "source": [
    "Plotting the hull yields and current term structure yields the following plot is obtained"
   ]
  },
  {
   "cell_type": "code",
   "execution_count": 4,
   "metadata": {},
   "outputs": [
    {
     "data": {
      "image/png": "[encoded data removed]",
      "text/plain": [
       "<Figure size 432x288 with 1 Axes>"
      ]
     },
     "metadata": {
      "needs_background": "light"
     },
     "output_type": "display_data"
    }
   ],
   "source": [
    "    plt.plot(terms,hull_yields, terms, yields)\n",
    "    plt.xlabel ('Time/Yrs')\n",
    "    plt.ylabel ('HW yields/Mkt yields')\n",
    "    plt.show()"
   ]
  },
  {
   "cell_type": "code",
   "execution_count": 9,
   "metadata": {},
   "outputs": [
    {
     "name": "stdout",
     "output_type": "stream",
     "text": [
      "     fun: 2.1044362576844318\n",
      " message: 'Solution found.'\n",
      "    nfev: 36\n",
      "  status: 0\n",
      " success: True\n",
      "       x: 499.9999865167874\n"
     ]
    }
   ],
   "source": [
    "def objectif_function(kappa, r_t, sigma, terms, zero_prices, tr):\n",
    "    Error = 0.0;\n",
    "    for k in range(1,12):\n",
    "        Maturity = tr[k];\n",
    "        F_t = r_t\n",
    "        index = int(Maturity/0.25 - 1)\n",
    "        Mkt_price = zero_prices[index];\n",
    "        HW_price = compute_HWZeroprice(r_t, kappa, sigma, zero_prices[index], 1.0, F_t, 0.0, Maturity)\n",
    "        Error = Error +  (HW_price-Mkt_price)**2\n",
    "    return Error\n",
    "\n",
    "result = minimize_scalar(objectif_function, args=(r_t, sigma, terms, zero_prices, tr), bounds=(0.0,500.0), method='bounded')\n",
    "print(result)\n",
    "kappa_calib = result.x"
   ]
  },
  {
   "cell_type": "code",
   "execution_count": 10,
   "metadata": {},
   "outputs": [],
   "source": [
    "def HullWhite(r0,  terms, zero_curve, kappa, sigma, T=1.0, N=119, seed=777):    \n",
    "    #np.random.seed(seed)\n",
    "    dt = T/float(N)    \n",
    "    rates = [r0]\n",
    "    t = 0.0\n",
    "    for i in range(1,N+1):\n",
    "        t = t + dt;\n",
    "        inst_fwd_slope = get_instantaneous_fwd_rate_slope(terms,zero_prices, t) \n",
    "        inst_fwd_rate  = get_instantaneous_fwd_rate(terms, zero_prices, t)\n",
    "        eta_t =  inst_fwd_slope + inst_fwd_rate*kappa + sigma**2/(2*kappa)*(1-np.exp(-2*kappa*t))\n",
    "        dr = (eta_t - kappa*rates[-1])*dt + sigma*np.random.normal()*math.sqrt(dt)\n",
    "        rates.append(rates[-1] + dr)\n",
    "    dates = [x*dt for x in range(N+1)];\n",
    "    return dates, rates\n",
    "r0 = 0.03; kappa =499; sigma = 0.1; t = 0.0; T = 5.0; time_steps=500;\n",
    "date,rate=HullWhite(r0,  terms, zero_prices, kappa, sigma, T=1.0, N=100)\n"
   ]
  },
  {
   "cell_type": "code",
   "execution_count": 19,
   "metadata": {},
   "outputs": [
    {
     "data": {
      "image/png": "[encoded data removed]",
      "text/plain": [
       "<Figure size 432x288 with 1 Axes>"
      ]
     },
     "metadata": {
      "needs_background": "light"
     },
     "output_type": "display_data"
    }
   ],
   "source": [
    "    r_t = 0.03; kappa =499; sigma = 0.1; t = 0.0; T = 5.0; \n",
    "    hull_yields = [0.03]\n",
    "    for Mat in terms[1:]:\n",
    "        #fwd_rate = get_instantaneous_fwd_rate(terms, zero_prices, Mat)\n",
    "        fwd_rate = r_t\n",
    "        index = int(Mat/0.25 - 1)\n",
    "        hull_yields.append(compute_yield(r_t, kappa, sigma, zero_prices[0], zero_prices[index], fwd_rate, 0.0, Mat))\n",
    "    plt.plot(terms,hull_yields, terms, yields)\n",
    "    plt.xlabel ('Time/Yrs')\n",
    "    plt.ylabel ('HW yields vs Mkt yields')\n",
    "    plt.show()   "
   ]
  },
  {
   "cell_type": "code",
   "execution_count": null,
   "metadata": {},
   "outputs": [],
   "source": []
  }
 ],
 "metadata": {
  "kernelspec": {
   "display_name": "Python 3",
   "language": "python",
   "name": "python3"
  },
  "language_info": {
   "codemirror_mode": {
    "name": "ipython",
    "version": 3
   },
   "file_extension": ".py",
   "mimetype": "text/x-python",
   "name": "python",
   "nbconvert_exporter": "python",
   "pygments_lexer": "ipython3",
   "version": "3.7.3"
  }
 },
 "nbformat": 4,
 "nbformat_minor": 2
}
